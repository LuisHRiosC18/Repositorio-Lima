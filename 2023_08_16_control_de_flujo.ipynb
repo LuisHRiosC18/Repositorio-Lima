{
  "cells": [
    {
      "cell_type": "markdown",
      "metadata": {
        "id": "j2AUh74dBgu3"
      },
      "source": [
        "Control de flujo\n",
        "================\n",
        "\n",
        "**Date:** 2023-08-16\n",
        "\n"
      ]
    },
    {
      "cell_type": "markdown",
      "metadata": {
        "id": "Yhs8jP3hBgu4"
      },
      "source": [
        "## Control de flujo\n",
        "\n"
      ]
    },
    {
      "cell_type": "markdown",
      "metadata": {
        "id": "1ucTaMSoBgu5"
      },
      "source": [
        "### `if`\n",
        "\n"
      ]
    },
    {
      "cell_type": "code",
      "execution_count": 7,
      "metadata": {
        "colab": {
          "base_uri": "https://localhost:8080/"
        },
        "id": "sDo9pDb8Bgu6",
        "outputId": "c1bb3e64-3642-4791-8622-3e274aa05c13"
      },
      "outputs": [
        {
          "output_type": "execute_result",
          "data": {
            "text/plain": [
              "['Luis', 'Ivan', 'Dianita', 'Anita', 'Alexander Hamilton', 'Colin', 'Rafa']"
            ]
          },
          "metadata": {},
          "execution_count": 7
        }
      ],
      "source": [
        "inscritos = [\"Luis\", \"Ivan\", \"Dianita\", \"Anita\", \"Alexander Hamilton\"]\n",
        "oyentes = [\"Colin\", \"Rafa\"]\n",
        "estudiantes = inscritos + oyentes\n",
        "estudiantes"
      ]
    },
    {
      "cell_type": "code",
      "execution_count": 2,
      "metadata": {
        "colab": {
          "base_uri": "https://localhost:8080/"
        },
        "id": "JVLk3CoNBgu7",
        "outputId": "5bd33ad1-d91e-4abe-b4e3-da75e3fc8e03"
      },
      "outputs": [
        {
          "output_type": "stream",
          "name": "stdout",
          "text": [
            "Son muchos estudiantes\n"
          ]
        }
      ],
      "source": [
        "if len(estudiantes) > 5:\n",
        "    print(\"Son muchos estudiantes\")"
      ]
    },
    {
      "cell_type": "code",
      "execution_count": 3,
      "metadata": {
        "colab": {
          "base_uri": "https://localhost:8080/"
        },
        "id": "MzFYD6mcBgu8",
        "outputId": "4ee96b79-24da-4d65-f911-77faacf87a00"
      },
      "outputs": [
        {
          "output_type": "stream",
          "name": "stdout",
          "text": [
            "Son pocos estudiantes. Ojalá entren oyentes\n"
          ]
        }
      ],
      "source": [
        "if len(estudiantes) > 10:\n",
        "    print(\"Son muchos estudiantes\")\n",
        "else:\n",
        "    print(\"Son pocos estudiantes\", end=\". \") Este es un repositorio para la escuela jeje\n",
        "    print(\"Ojalá entren oyentes\")"
      ]
    },
    {
      "cell_type": "code",
      "execution_count": 14,
      "metadata": {
        "colab": {
          "base_uri": "https://localhost:8080/"
        },
        "id": "-67O_c_xBgu8",
        "outputId": "701ae080-c513-49af-c747-cab658b060c6"
      },
      "outputs": [
        {
          "output_type": "stream",
          "name": "stdout",
          "text": [
            "Son cuando mucho seis estudiantes\n"
          ]
        }
      ],
      "source": [
        "if len(inscritos) <= 6:\n",
        "    print(\"Son cuando mucho seis estudiantes\")\n",
        "elif len(inscritos) == 6:\n",
        "    print(\"Son seis estudiantes\")\n",
        "else:\n",
        "    print(\"Son muchos estudiantes\", end=\". \")\n",
        "    print(\"Ojalá no entren oyentes\")"
      ]
    },
    {
      "cell_type": "markdown",
      "metadata": {
        "id": "8rnn5rW0Bgu9"
      },
      "source": [
        "### `for`\n",
        "\n"
      ]
    },
    {
      "cell_type": "code",
      "execution_count": 16,
      "metadata": {
        "colab": {
          "base_uri": "https://localhost:8080/"
        },
        "id": "pQ3l8pFzBgu9",
        "outputId": "b1d5497e-a585-4ea2-c4c5-ed7a11bec0cd"
      },
      "outputs": [
        {
          "output_type": "stream",
          "name": "stdout",
          "text": [
            "Hola Luis kieres papitaz???\n",
            "Hola Ivan kieres papitaz???\n",
            "Hola Dianita kieres papitaz???\n",
            "Hola Anita kieres papitaz???\n",
            "Hola Alexander Hamilton kieres papitaz???\n",
            "Hola Colin kieres papitaz???\n",
            "Hola Rafa kieres papitaz???\n"
          ]
        }
      ],
      "source": [
        "for estudiante in estudiantes:\n",
        "    print(\"Hola\", estudiante, \"kieres papitaz???\")"
      ]
    },
    {
      "cell_type": "code",
      "execution_count": 8,
      "metadata": {
        "colab": {
          "base_uri": "https://localhost:8080/"
        },
        "id": "48TAScsIBgu-",
        "outputId": "9bff2b50-fd35-4e32-ee17-548e49c86788"
      },
      "outputs": [
        {
          "output_type": "stream",
          "name": "stdout",
          "text": [
            "Hola Luis\n",
            "Hola Ivan\n",
            "Hola Dianita\n",
            "Hola Anita\n",
            "Hola Alexander Hamilton\n",
            "Hola Colin\n",
            "Hola Rafa\n"
          ]
        }
      ],
      "source": [
        "for i in range(len(estudiantes)):\n",
        "    print(\"Hola\", estudiantes[i])"
      ]
    },
    {
      "cell_type": "code",
      "execution_count": 19,
      "metadata": {
        "colab": {
          "base_uri": "https://localhost:8080/"
        },
        "id": "uP8xPqb3Bgu-",
        "outputId": "d0cb0d4d-0615-4e8f-cb3d-4d234d3a4037"
      },
      "outputs": [
        {
          "output_type": "stream",
          "name": "stdout",
          "text": [
            "4\n",
            "3\n",
            "2\n",
            "1\n",
            "0\n",
            "Sha Booom here's another slip in\n",
            "-1\n"
          ]
        }
      ],
      "source": [
        "for j in range(4, -2, -1):\n",
        "    print(j)\n",
        "    if j == 0:\n",
        "        print(\"Sha Booom here's another slip in\")"
      ]
    },
    {
      "cell_type": "code",
      "source": [
        "range(0,7)"
      ],
      "metadata": {
        "colab": {
          "base_uri": "https://localhost:8080/"
        },
        "id": "cX3yJux1HGv3",
        "outputId": "632ed39f-7b7c-4ca1-dac8-4704cf39f3a9"
      },
      "execution_count": 26,
      "outputs": [
        {
          "output_type": "execute_result",
          "data": {
            "text/plain": [
              "range(0, 7)"
            ]
          },
          "metadata": {},
          "execution_count": 26
        }
      ]
    },
    {
      "cell_type": "code",
      "source": [
        "list(range(0,7))"
      ],
      "metadata": {
        "colab": {
          "base_uri": "https://localhost:8080/"
        },
        "id": "ocNxCS9JHVb-",
        "outputId": "2761437b-6de9-4f50-b922-df5f372bda45"
      },
      "execution_count": 27,
      "outputs": [
        {
          "output_type": "execute_result",
          "data": {
            "text/plain": [
              "[0, 1, 2, 3, 4, 5, 6]"
            ]
          },
          "metadata": {},
          "execution_count": 27
        }
      ]
    },
    {
      "cell_type": "code",
      "source": [
        "list(range(5, -3, -2))"
      ],
      "metadata": {
        "colab": {
          "base_uri": "https://localhost:8080/"
        },
        "id": "A-pEMUN-Hj4j",
        "outputId": "4e89cf95-6888-44ab-ce92-cab0fb38aaa1"
      },
      "execution_count": 28,
      "outputs": [
        {
          "output_type": "execute_result",
          "data": {
            "text/plain": [
              "[5, 3, 1, -1]"
            ]
          },
          "metadata": {},
          "execution_count": 28
        }
      ]
    },
    {
      "cell_type": "code",
      "execution_count": 10,
      "metadata": {
        "colab": {
          "base_uri": "https://localhost:8080/"
        },
        "id": "i1bQzWvoBgu_",
        "outputId": "668c6bde-442f-41ab-d4e0-2720273b58d9"
      },
      "outputs": [
        {
          "output_type": "execute_result",
          "data": {
            "text/plain": [
              "range(0, 7897987978979779878979797987987979779797979)"
            ]
          },
          "metadata": {},
          "execution_count": 10
        }
      ],
      "source": [
        "range(7897987978979779878979797987987979779797979)"
      ]
    },
    {
      "cell_type": "code",
      "source": [],
      "metadata": {
        "id": "lNjec5MNHsnk"
      },
      "execution_count": null,
      "outputs": []
    },
    {
      "cell_type": "markdown",
      "source": [
        "## ¿Que es lo que hace range?\n",
        "La funciòn range acepta tres valores distintos, digamos que se ve algo asì\n",
        "range(7,-1,-1)\n",
        "Lo que hace es que va a empezar a contar desde 7, posteriormente va a restarle 1 (la ultima coma) y asi va a ir hasta llegar al numero antes del -1 (el cero)."
      ],
      "metadata": {
        "id": "NybRKQnyHq66"
      }
    },
    {
      "cell_type": "markdown",
      "metadata": {
        "id": "4N-lG3gCBgu_"
      },
      "source": [
        "La suma de todos los números del 1 al 100.\n",
        "\n"
      ]
    },
    {
      "cell_type": "code",
      "execution_count": 11,
      "metadata": {
        "colab": {
          "base_uri": "https://localhost:8080/"
        },
        "id": "jBwjpp8jBgu_",
        "outputId": "1199ec42-804b-447a-8ada-185504094d29"
      },
      "outputs": [
        {
          "output_type": "execute_result",
          "data": {
            "text/plain": [
              "5050"
            ]
          },
          "metadata": {},
          "execution_count": 11
        }
      ],
      "source": [
        "sum(range(101))"
      ]
    },
    {
      "cell_type": "markdown",
      "metadata": {
        "id": "0hnza1GYBgvA"
      },
      "source": [
        "### break, continue y else en ciclos for\n",
        "\n"
      ]
    },
    {
      "cell_type": "markdown",
      "metadata": {
        "id": "uJqwOsX1BgvA"
      },
      "source": [
        "#### break\n",
        "\n"
      ]
    },
    {
      "cell_type": "markdown",
      "metadata": {
        "id": "_yfjvIpPBgvA"
      },
      "source": [
        "`break` sirve para interrumpir un ciclo for.\n",
        "\n"
      ]
    },
    {
      "cell_type": "code",
      "execution_count": 15,
      "metadata": {
        "colab": {
          "base_uri": "https://localhost:8080/"
        },
        "id": "x5-Vw3GoBgvA",
        "outputId": "a206cf8c-eb97-4d63-add6-8323f9550536"
      },
      "outputs": [
        {
          "output_type": "stream",
          "name": "stdout",
          "text": [
            "Hola Luis ¿Cómo estás?\n",
            "Hola Ivan ¿Cómo estás?\n",
            "Hola Dianita ¿Cómo estás?\n",
            "Hola Anita ¿Cómo estás?\n",
            "Hola Alexander Hamilton ¿Cómo estás?\n",
            "Ya saludé a los inscritos\n"
          ]
        }
      ],
      "source": [
        "for estudiante in estudiantes:\n",
        "    print(\"Hola\", estudiante, \"¿Cómo estás?\")\n",
        "    if estudiante == \"Alexander Hamilton\":\n",
        "        break\n",
        "\n",
        "print(\"Ya saludé a los inscritos\")"
      ]
    },
    {
      "cell_type": "markdown",
      "metadata": {
        "id": "UnbLZUdjBgvB"
      },
      "source": [
        "#### else en un ciclo for\n",
        "\n"
      ]
    },
    {
      "cell_type": "markdown",
      "metadata": {
        "id": "Ps706AJ4BgvB"
      },
      "source": [
        "La cláusula `else` en un ciclo `for` se ejecuta cuando el ciclo `for` termina de manera \"natural\", sin haber pasado por una cláusula `break`.\n",
        "\n"
      ]
    },
    {
      "cell_type": "code",
      "execution_count": 13,
      "metadata": {
        "colab": {
          "base_uri": "https://localhost:8080/"
        },
        "id": "yumTYBVVBgvB",
        "outputId": "6ac03b45-dfca-4198-d9e2-4c8272722f0d"
      },
      "outputs": [
        {
          "output_type": "stream",
          "name": "stdout",
          "text": [
            "2 es un número primo\n",
            "3 es un número primo\n",
            "4 es igual a 2 * 2\n",
            "5 es un número primo\n",
            "6 es igual a 2 * 3\n",
            "7 es un número primo\n",
            "8 es igual a 2 * 4\n",
            "9 es igual a 3 * 3\n"
          ]
        }
      ],
      "source": [
        "for n in range(2, 10):\n",
        "    for x in range(2, n):\n",
        "        if n % x == 0:\n",
        "            print(n, 'es igual a', x, '*', n//x)\n",
        "            break\n",
        "    else:\n",
        "        # se terminó de checar posibles divisores sin encontrar uno\n",
        "        print(n, 'es un número primo')"
      ]
    },
    {
      "cell_type": "markdown",
      "metadata": {
        "id": "9x3kQ1ZaBgvB"
      },
      "source": [
        "### continue\n",
        "\n",
        "Continue detiene de alguna manera el programa pero lo hace de tal manera que puede saltarse solo algunas lineas del codigo, al contrario de break que detiene todo en seco"
      ]
    },
    {
      "cell_type": "code",
      "execution_count": 29,
      "metadata": {
        "colab": {
          "base_uri": "https://localhost:8080/"
        },
        "id": "5ZGo5rxyBgvB",
        "outputId": "e1df453a-1fda-4972-955f-db11bc2f6958"
      },
      "outputs": [
        {
          "output_type": "stream",
          "name": "stdout",
          "text": [
            "Hola Luis ¿Cómo estás?\n",
            "¿Qué materias estás llevando, Luis ?\n",
            "Hola Ivan ¿Cómo estás?\n",
            "¿Qué materias estás llevando, Ivan ?\n",
            "Hola Dianita ¿Cómo estás?\n",
            "¿Qué materias estás llevando, Dianita ?\n",
            "Hola Anita ¿Cómo estás?\n",
            "¿Qué materias estás llevando, Anita ?\n",
            "Hola Alexander Hamilton ¿Cómo estás?\n",
            "¿Qué materias estás llevando, Alexander Hamilton ?\n",
            "Hola Colin ¿Cómo estás?\n"
          ]
        }
      ],
      "source": [
        "for estudiante in estudiantes:\n",
        "    print(\"Hola\", estudiante, \"¿Cómo estás?\")\n",
        "    if estudiante in [\"Colin\", \"Rafa\"]:\n",
        "        break\n",
        "    print(\"¿Qué materias estás llevando,\", estudiante,\"?\")"
      ]
    },
    {
      "cell_type": "code",
      "source": [],
      "metadata": {
        "id": "ZZ50vr1rLEqI"
      },
      "execution_count": null,
      "outputs": []
    },
    {
      "cell_type": "code",
      "execution_count": 30,
      "metadata": {
        "colab": {
          "base_uri": "https://localhost:8080/"
        },
        "outputId": "2a055e8a-240e-4884-dd92-7bb42bd4f274",
        "id": "C2B2A9XjLHf1"
      },
      "outputs": [
        {
          "output_type": "stream",
          "name": "stdout",
          "text": [
            "Hola Luis ¿Cómo estás?\n",
            "¿Qué materias estás llevando, Luis ?\n",
            "Hola Ivan ¿Cómo estás?\n",
            "¿Qué materias estás llevando, Ivan ?\n",
            "Hola Dianita ¿Cómo estás?\n",
            "¿Qué materias estás llevando, Dianita ?\n",
            "Hola Anita ¿Cómo estás?\n",
            "¿Qué materias estás llevando, Anita ?\n",
            "Hola Alexander Hamilton ¿Cómo estás?\n",
            "¿Qué materias estás llevando, Alexander Hamilton ?\n",
            "Hola Colin ¿Cómo estás?\n",
            "Hola Rafa ¿Cómo estás?\n"
          ]
        }
      ],
      "source": [
        "for estudiante in estudiantes:\n",
        "    print(\"Hola\", estudiante, \"¿Cómo estás?\")\n",
        "    if estudiante in [\"Colin\", \"Rafa\"]:\n",
        "        continue\n",
        "    print(\"¿Qué materias estás llevando,\", estudiante,\"?\")"
      ]
    },
    {
      "cell_type": "markdown",
      "source": [],
      "metadata": {
        "id": "1m0LwljPLeSF"
      }
    },
    {
      "cell_type": "markdown",
      "metadata": {
        "id": "Gl6Qku9QBgvB"
      },
      "source": [
        "#### pass\n",
        "\n"
      ]
    },
    {
      "cell_type": "markdown",
      "metadata": {
        "id": "Eo4bN07jBgvC"
      },
      "source": [
        "La claúsula `pass` no hace nada, pero puede servir para que un programa incompleto sea sintácticamente correcto.\n",
        "\n"
      ]
    },
    {
      "cell_type": "code",
      "execution_count": 32,
      "metadata": {
        "colab": {
          "base_uri": "https://localhost:8080/"
        },
        "id": "zhayewXMBgvC",
        "outputId": "5e7530bd-7244-4cf0-e7da-24b916008ae3"
      },
      "outputs": [
        {
          "output_type": "stream",
          "name": "stdout",
          "text": [
            "Hola Luis ¿Cómo estás?\n",
            "Hola Ivan ¿Cómo estás?\n",
            "Hola Dianita ¿Cómo estás?\n",
            "Hola Anita ¿Cómo estás?\n",
            "Hola Alexander Hamilton ¿Cómo estás?\n",
            "Hola Colin ¿Cómo estás?\n",
            "Hola Rafa ¿Cómo estás?\n"
          ]
        }
      ],
      "source": [
        "for estudiante in estudiantes:\n",
        "    print(\"Hola\", estudiante, \"¿Cómo estás?\")\n",
        "    if estudiante in [\"Colin\", \"Rafa\"]:\n",
        "        pass"
      ]
    },
    {
      "cell_type": "code",
      "execution_count": 24,
      "metadata": {
        "colab": {
          "base_uri": "https://localhost:8080/"
        },
        "id": "iCcwyQFiBgvC",
        "outputId": "0f1c17dc-512e-4d4a-f545-397518661ce9"
      },
      "outputs": [
        {
          "output_type": "stream",
          "name": "stdout",
          "text": [
            "Hola Luis ¿Cómo estás?\n",
            "Hola Ivan ¿Cómo estás?\n",
            "Hola Dianita ¿Cómo estás?\n",
            "Hola Anita ¿Cómo estás?\n",
            "Hola Alexander Hamilton ¿Cómo estás?\n",
            "Hola Colin ¿Cómo estás?\n",
            "Hola Colin ¿Eres oyente?\n",
            "Hola Rafa ¿Cómo estás?\n",
            "Hola Rafa ¿Eres oyente?\n"
          ]
        }
      ],
      "source": [
        "for estudiante in estudiantes:\n",
        "    print(\"Hola\", estudiante, \"¿Cómo estás?\")\n",
        "    if estudiante in [\"Colin\", \"Rafa\"]:\n",
        "        print(\"Hola\", estudiante, \"¿Eres oyente?\")"
      ]
    },
    {
      "cell_type": "code",
      "source": [],
      "metadata": {
        "id": "spF4dqb-G5aw"
      },
      "execution_count": null,
      "outputs": []
    }
  ],
  "metadata": {
    "kernelspec": {
      "display_name": "Python 3",
      "language": "python",
      "name": "python3"
    },
    "language_info": {
      "codemirror_mode": {
        "name": "ipython",
        "version": 3
      },
      "file_extension": ".py",
      "mimetype": "text/x-python",
      "name": "python",
      "nbconvert_exporter": "python",
      "pygments_lexer": "ipython3",
      "version": "3.9.2"
    },
    "org": null,
    "colab": {
      "provenance": []
    }
  },
  "nbformat": 4,
  "nbformat_minor": 0
}