{
  "nbformat": 4,
  "nbformat_minor": 0,
  "metadata": {
    "colab": {
      "provenance": []
    },
    "kernelspec": {
      "name": "python3",
      "display_name": "Python 3"
    },
    "language_info": {
      "name": "python"
    }
  },
  "cells": [
    {
      "cell_type": "markdown",
      "source": [
        "# Ternas Pitagorícas jeje\n",
        "Desde hace muchos años se conoce que para un triángulo rectangulo de lados a,b e hipotenusa c, se cumple la relación $ a²\n",
        "+ b² = c²$\n",
        "\n",
        "Se notó rápidamente que la terna de números 3, 4 y 5 cumplen que $3² + 4² = 5²$, así que surge de manera natural preguntarse lo siguiente:\n",
        "\n",
        "**¿Qué números enteros positivos a,b y c cumplen esta relación?**\n",
        "\n",
        "Aquí hay un pequeño código donde se pueden encontrar las ternas para $a,b,c \\leq 100$"
      ],
      "metadata": {
        "id": "YlWJsTKHOL_Y"
      }
    },
    {
      "cell_type": "code",
      "source": [],
      "metadata": {
        "id": "ky2lyJgeQzGl"
      },
      "execution_count": null,
      "outputs": []
    },
    {
      "cell_type": "code",
      "execution_count": null,
      "metadata": {
        "colab": {
          "base_uri": "https://localhost:8080/"
        },
        "id": "kTj6q69BTVTv",
        "outputId": "d1befffa-361d-4926-f37a-ae2e179fd4d5"
      },
      "outputs": [
        {
          "output_type": "execute_result",
          "data": {
            "text/plain": [
              "[{3, 4, 5},\n",
              " {5, 12, 13},\n",
              " {6, 8, 10},\n",
              " {7, 24, 25},\n",
              " {8, 15, 17},\n",
              " {9, 12, 15},\n",
              " {9, 40, 41},\n",
              " {10, 24, 26},\n",
              " {11, 60, 61},\n",
              " {12, 16, 20},\n",
              " {12, 35, 37},\n",
              " {13, 84, 85},\n",
              " {14, 48, 50},\n",
              " {15, 20, 25},\n",
              " {15, 36, 39},\n",
              " {16, 30, 34},\n",
              " {16, 63, 65},\n",
              " {18, 24, 30},\n",
              " {18, 80, 82},\n",
              " {20, 21, 29},\n",
              " {20, 48, 52},\n",
              " {21, 28, 35},\n",
              " {21, 72, 75},\n",
              " {24, 32, 40},\n",
              " {24, 45, 51},\n",
              " {24, 70, 74},\n",
              " {25, 60, 65},\n",
              " {27, 36, 45},\n",
              " {28, 45, 53},\n",
              " {28, 96, 100},\n",
              " {30, 40, 50},\n",
              " {30, 72, 78},\n",
              " {32, 60, 68},\n",
              " {33, 44, 55},\n",
              " {33, 56, 65},\n",
              " {35, 84, 91},\n",
              " {36, 48, 60},\n",
              " {36, 77, 85},\n",
              " {39, 52, 65},\n",
              " {39, 80, 89},\n",
              " {40, 42, 58},\n",
              " {40, 75, 85},\n",
              " {42, 56, 70},\n",
              " {45, 60, 75},\n",
              " {48, 55, 73},\n",
              " {48, 64, 80},\n",
              " {51, 68, 85},\n",
              " {54, 72, 90},\n",
              " {57, 76, 95},\n",
              " {60, 63, 87},\n",
              " {60, 80, 100},\n",
              " {65, 72, 97}]"
            ]
          },
          "metadata": {},
          "execution_count": 18
        }
      ],
      "source": [
        "Ternas_pi= [ {a,b,c} for a in range(1,101) for b in range(1,101) for c in range(1,101) if a**2+b**2==c**2 and a<b]\n",
        "Ternas_pi"
      ]
    }
  ]
}