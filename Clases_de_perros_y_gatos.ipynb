{
  "nbformat": 4,
  "nbformat_minor": 0,
  "metadata": {
    "colab": {
      "provenance": []
    },
    "kernelspec": {
      "name": "python3",
      "display_name": "Python 3"
    },
    "language_info": {
      "name": "python"
    }
  },
  "cells": [
    {
      "cell_type": "markdown",
      "source": [
        "## Clases"
      ],
      "metadata": {
        "id": "qSb-gSB4YoB8"
      }
    },
    {
      "cell_type": "code",
      "execution_count": 24,
      "metadata": {
        "id": "PE54MyQTYJyA"
      },
      "outputs": [],
      "source": [
        "class Perro:\n",
        "    def __init__(self, nombre, color, mood):\n",
        "        self.nombre = nombre\n",
        "        self.color  = color\n",
        "        self.mood   = mood\n",
        "\n",
        "    def __repr__(self):\n",
        "        return f\"ESte perro se llama {self.nombre} y hace {self.sonido()}\"\n",
        "\n",
        "    def sonido(self, saludito= \"Guau\"):\n",
        "        return saludito\n"
      ]
    },
    {
      "cell_type": "code",
      "source": [
        "class Gato:\n",
        "    def __init__(self, nombre, color, mood):\n",
        "        self.nombre = nombre\n",
        "        self.color  = color\n",
        "        self.mood   = mood\n",
        "\n",
        "    def __repr__(self):\n",
        "        return f\"ESte gato está {self.mood} y {self.color}, se llama {self.nombre} y hace {self.sonido()}\"\n",
        "\n",
        "    def sonido(self, saludito= \"Miau\"):\n",
        "        return saludito"
      ],
      "metadata": {
        "id": "UmRGBgU7ad1b"
      },
      "execution_count": 25,
      "outputs": []
    },
    {
      "cell_type": "code",
      "source": [
        "a = Perro(\"Fido\", \"Azul\", \"Feliz\")"
      ],
      "metadata": {
        "id": "t6w2mRo7Z3at"
      },
      "execution_count": 26,
      "outputs": []
    },
    {
      "cell_type": "code",
      "source": [
        "a.sonido()"
      ],
      "metadata": {
        "colab": {
          "base_uri": "https://localhost:8080/",
          "height": 35
        },
        "id": "1ppy2DfeZ_9x",
        "outputId": "5011b689-2f4a-46bf-a9fd-2c7d02d1f7bf"
      },
      "execution_count": 20,
      "outputs": [
        {
          "output_type": "execute_result",
          "data": {
            "text/plain": [
              "'Guau'"
            ],
            "application/vnd.google.colaboratory.intrinsic+json": {
              "type": "string"
            }
          },
          "metadata": {},
          "execution_count": 20
        }
      ]
    },
    {
      "cell_type": "code",
      "source": [
        "b= Gato(\"Chistorra\", \"Azul\", \"Triste\")"
      ],
      "metadata": {
        "id": "c9X6BP9DaBru"
      },
      "execution_count": 27,
      "outputs": []
    },
    {
      "cell_type": "code",
      "source": [
        "b"
      ],
      "metadata": {
        "colab": {
          "base_uri": "https://localhost:8080/"
        },
        "id": "mDRCJrD6aFpC",
        "outputId": "5e04f4fe-72c2-4980-aae7-acf65cbf5b1c"
      },
      "execution_count": 28,
      "outputs": [
        {
          "output_type": "execute_result",
          "data": {
            "text/plain": [
              "ESte gato está Triste y Azul, se llama Chistorra y hace Miau"
            ]
          },
          "metadata": {},
          "execution_count": 28
        }
      ]
    },
    {
      "cell_type": "code",
      "source": [
        "def Id(cosa):\n",
        "    if \"Perro\" in str(type(cosa)):\n",
        "        return f\"Esta cosa es un perro je\"\n",
        "    elif \"Gato\" in str(type(cosa)):\n",
        "        return \"Esto es un gato\""
      ],
      "metadata": {
        "id": "FfqWuA2YaMrQ"
      },
      "execution_count": 35,
      "outputs": []
    },
    {
      "cell_type": "code",
      "source": [
        "Id(b)"
      ],
      "metadata": {
        "colab": {
          "base_uri": "https://localhost:8080/",
          "height": 35
        },
        "id": "32QRrYKDaOVA",
        "outputId": "a210747c-8976-4db8-a4d8-bb39a8a36535"
      },
      "execution_count": 36,
      "outputs": [
        {
          "output_type": "execute_result",
          "data": {
            "text/plain": [
              "'Esto es un gato'"
            ],
            "application/vnd.google.colaboratory.intrinsic+json": {
              "type": "string"
            }
          },
          "metadata": {},
          "execution_count": 36
        }
      ]
    },
    {
      "cell_type": "code",
      "source": [],
      "metadata": {
        "id": "aV3idU4caSwd"
      },
      "execution_count": null,
      "outputs": []
    }
  ]
}