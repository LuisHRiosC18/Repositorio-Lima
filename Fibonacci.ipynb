{
  "nbformat": 4,
  "nbformat_minor": 0,
  "metadata": {
    "colab": {
      "provenance": []
    },
    "kernelspec": {
      "name": "python3",
      "display_name": "Python 3"
    },
    "language_info": {
      "name": "python"
    }
  },
  "cells": [
    {
      "cell_type": "code",
      "execution_count": 1,
      "metadata": {
        "colab": {
          "base_uri": "https://localhost:8080/"
        },
        "id": "vJlYHImhb7qF",
        "outputId": "18b57673-20bf-4ba0-aa9f-90a30cb22827"
      },
      "outputs": [
        {
          "output_type": "stream",
          "name": "stdout",
          "text": [
            "0,\n",
            "1,\n",
            "1,\n",
            "2,\n",
            "3,\n",
            "5,\n",
            "8,\n",
            "13,\n",
            "21,\n",
            "34,\n",
            "55,\n",
            "89,\n"
          ]
        }
      ],
      "source": [
        "a, b= 0, 1\n",
        "\n",
        "while a < 100:\n",
        "    print(f'{a},')\n",
        "    a, b = b, a+b"
      ]
    },
    {
      "cell_type": "code",
      "source": [],
      "metadata": {
        "id": "RdALylDlcnru"
      },
      "execution_count": null,
      "outputs": []
    }
  ]
}