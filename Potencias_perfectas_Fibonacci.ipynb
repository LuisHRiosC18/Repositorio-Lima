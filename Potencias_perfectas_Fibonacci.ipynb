{
  "nbformat": 4,
  "nbformat_minor": 0,
  "metadata": {
    "colab": {
      "provenance": []
    },
    "kernelspec": {
      "name": "python3",
      "display_name": "Python 3"
    },
    "language_info": {
      "name": "python"
    }
  },
  "cells": [
    {
      "cell_type": "markdown",
      "source": [
        "# Potencias perfectas en números de Fibonacci jeje\n",
        "## Para mi amigo + personal de la prepa"
      ],
      "metadata": {
        "id": "Jq_NzrlhI-al"
      }
    },
    {
      "cell_type": "markdown",
      "source": [
        "El estudio de los números de Fibonacci tiene años sucediendo, de hecho hay algunos problemas interesantes que se han podido encontrar, uno de ellos es:\n",
        "**¿Existen números en la sucesión de Fibonacci que sean cuadrados perfectos?**\n",
        "\n",
        "Es decir, existen números en la sucesión de fibonacci denotada por $F$ que sean de la forma $$\\{n \\in N | n² \\in F\\}$$\n",
        "\n",
        "La respuesta es sí, lamentablemente no le echaste ganas a buscarlo en google jeje.\n",
        "\n",
        "De hecho, eso fue demostrado hace ya muuucho tiempo y puedes encontrarlo aquí\n",
        "[mero.](https://londmathsoc.onlinelibrary.wiley.com/doi/abs/10.1112/jlms/s1-39.1.537)\n",
        "\n",
        "Pero también el problema se puede extender para una potencia n-ésima, es decir existen números n tales que $$\\{n \\in N | n^n \\in F\\}$$\n",
        "\n",
        "LA RESPUESTA ES SÍ [AQUÍ ESTÁ EL LINK.](https://annals.math.princeton.edu/2006/163-3/p05)\n",
        "\n",
        "También te dejo un código para que puedas verificar cuales son las potencias perfectas para el n que quieras je.\n"
      ],
      "metadata": {
        "id": "hKoTCKIwJZk3"
      }
    },
    {
      "cell_type": "code",
      "execution_count": 12,
      "metadata": {
        "colab": {
          "base_uri": "https://localhost:8080/"
        },
        "id": "5MTNlDSQDNef",
        "outputId": "cdb9e264-f76f-40c0-eae1-43022d72bd45"
      },
      "outputs": [
        {
          "output_type": "execute_result",
          "data": {
            "text/plain": [
              "[0, 1, 1]"
            ]
          },
          "metadata": {},
          "execution_count": 12
        }
      ],
      "source": [
        "from sympy import sqrt\n",
        "\n",
        "def es_potencia(n, pot=2):\n",
        "    return int(sqrt(n, pot)) ** pot == n\n",
        "\n",
        "\n",
        "def potencia_fibonacci(n, pot=2):\n",
        "    fibs = []\n",
        "    a, b = 0, 1\n",
        "    while a < n:\n",
        "        if es_potencia(a, pot):\n",
        "            fibs.append(a)\n",
        "        a, b = b, a+b\n",
        "    return fibs\n",
        "\n",
        "potencia_fibonacci(10**20, 4)\n",
        "\n"
      ]
    },
    {
      "cell_type": "code",
      "source": [],
      "metadata": {
        "id": "Xoyzs-syDvbw"
      },
      "execution_count": null,
      "outputs": []
    }
  ]
}